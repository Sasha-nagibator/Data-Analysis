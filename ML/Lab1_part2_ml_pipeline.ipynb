{
 "cells": [
  {
   "cell_type": "markdown",
   "metadata": {
    "nbgrader": {
     "grade": false,
     "grade_id": "cell-86e0de040aac317a",
     "locked": true,
     "schema_version": 2,
     "solution": false
    }
   },
   "source": [
    "# Lab assignment №1, part 2\n",
    "\n",
    "This lab assignment consists of several parts. You are supposed to make some transformations, train some models, estimate the quality of the models and explain your results.\n",
    "\n",
    "Several comments:\n",
    "* Don't hesitate to ask questions, it's a good practice.\n",
    "* No private/public sharing, please. The copied assignments will be graded with 0 points.\n",
    "* Blocks of this lab will be graded separately."
   ]
  },
  {
   "cell_type": "markdown",
   "metadata": {},
   "source": [
    "__*This is the second part of the assignment. First and third parts are waiting for you in the same directory.*__"
   ]
  },
  {
   "cell_type": "markdown",
   "metadata": {
    "nbgrader": {
     "grade": false,
     "grade_id": "cell-512ba712fc0fc065",
     "locked": true,
     "schema_version": 2,
     "solution": false
    }
   },
   "source": [
    "## Part 2. Data preprocessing, model training and evaluation."
   ]
  },
  {
   "cell_type": "markdown",
   "metadata": {
    "nbgrader": {
     "grade": false,
     "grade_id": "cell-b656a4266174b009",
     "locked": true,
     "schema_version": 2,
     "solution": false
    }
   },
   "source": [
    "### 1. Reading the data\n",
    "Today we work with the [dataset](https://archive.ics.uci.edu/ml/datasets/Statlog+%28Vehicle+Silhouettes%29), describing different cars for multiclass ($k=4$) classification problem. The data is available below."
   ]
  },
  {
   "cell_type": "code",
   "execution_count": 108,
   "metadata": {},
   "outputs": [
    {
     "name": "stdout",
     "output_type": "stream",
     "text": [
      "--2022-11-19 00:14:58--  https://raw.githubusercontent.com/girafe-ai/ml-course/22f_made/homeworks/lab01_ml_pipeline/car_data.csv\n",
      "Распознаётся raw.githubusercontent.com (raw.githubusercontent.com)… 185.199.109.133, 185.199.108.133, 185.199.110.133, ...\n",
      "Подключение к raw.githubusercontent.com (raw.githubusercontent.com)|185.199.109.133|:443... соединение установлено.\n",
      "HTTP-запрос отправлен. Ожидание ответа… 200 OK\n",
      "Длина: 58374 (57K) [text/plain]\n",
      "Сохранение в: «car_data.csv.5»\n",
      "\n",
      "car_data.csv.5      100%[===================>]  57,01K  --.-KB/s    за 0,03s   \n",
      "\n",
      "2022-11-19 00:14:59 (2,09 MB/s) - «car_data.csv.5» сохранён [58374/58374]\n",
      "\n"
     ]
    }
   ],
   "source": [
    "# If on colab, uncomment the following lines\n",
    "\n",
    "! wget https://raw.githubusercontent.com/girafe-ai/ml-course/22f_made/homeworks/lab01_ml_pipeline/car_data.csv"
   ]
  },
  {
   "cell_type": "code",
   "execution_count": 109,
   "metadata": {
    "nbgrader": {
     "grade": false,
     "grade_id": "cell-eebac6bfdf73d0bc",
     "locked": true,
     "schema_version": 2,
     "solution": false
    }
   },
   "outputs": [
    {
     "name": "stdout",
     "output_type": "stream",
     "text": [
      "(846, 19) (846,)\n",
      "(549, 19) (549,) (297, 19) (297,)\n"
     ]
    }
   ],
   "source": [
    "import pandas as pd\n",
    "import numpy as np\n",
    "from sklearn.model_selection import train_test_split\n",
    "\n",
    "dataset = pd.read_csv('car_data.csv', delimiter=',', header=None).values\n",
    "data = dataset[:, :-1].astype(int)\n",
    "target = dataset[:, -1]\n",
    "\n",
    "print(data.shape, target.shape)\n",
    "\n",
    "X_train, X_test, y_train, y_test = train_test_split(data, target, test_size=0.35)\n",
    "print(X_train.shape, y_train.shape, X_test.shape, y_test.shape)"
   ]
  },
  {
   "cell_type": "markdown",
   "metadata": {
    "nbgrader": {
     "grade": false,
     "grade_id": "cell-88b1a0f688568f2c",
     "locked": true,
     "schema_version": 2,
     "solution": false
    }
   },
   "source": [
    "To get some insights about the dataset, `pandas` might be used. The `train` part is transformed to `pd.DataFrame` below."
   ]
  },
  {
   "cell_type": "code",
   "execution_count": 110,
   "metadata": {},
   "outputs": [
    {
     "data": {
      "text/html": [
       "<div>\n",
       "<style scoped>\n",
       "    .dataframe tbody tr th:only-of-type {\n",
       "        vertical-align: middle;\n",
       "    }\n",
       "\n",
       "    .dataframe tbody tr th {\n",
       "        vertical-align: top;\n",
       "    }\n",
       "\n",
       "    .dataframe thead th {\n",
       "        text-align: right;\n",
       "    }\n",
       "</style>\n",
       "<table border=\"1\" class=\"dataframe\">\n",
       "  <thead>\n",
       "    <tr style=\"text-align: right;\">\n",
       "      <th></th>\n",
       "      <th>0</th>\n",
       "      <th>1</th>\n",
       "      <th>2</th>\n",
       "      <th>3</th>\n",
       "      <th>4</th>\n",
       "      <th>5</th>\n",
       "      <th>6</th>\n",
       "      <th>7</th>\n",
       "      <th>8</th>\n",
       "      <th>9</th>\n",
       "      <th>10</th>\n",
       "      <th>11</th>\n",
       "      <th>12</th>\n",
       "      <th>13</th>\n",
       "      <th>14</th>\n",
       "      <th>15</th>\n",
       "      <th>16</th>\n",
       "      <th>17</th>\n",
       "      <th>18</th>\n",
       "    </tr>\n",
       "  </thead>\n",
       "  <tbody>\n",
       "    <tr>\n",
       "      <th>0</th>\n",
       "      <td>222</td>\n",
       "      <td>100</td>\n",
       "      <td>50</td>\n",
       "      <td>81</td>\n",
       "      <td>197</td>\n",
       "      <td>67</td>\n",
       "      <td>6</td>\n",
       "      <td>186</td>\n",
       "      <td>34</td>\n",
       "      <td>22</td>\n",
       "      <td>158</td>\n",
       "      <td>206</td>\n",
       "      <td>531</td>\n",
       "      <td>198</td>\n",
       "      <td>74</td>\n",
       "      <td>6</td>\n",
       "      <td>1</td>\n",
       "      <td>197</td>\n",
       "      <td>198</td>\n",
       "    </tr>\n",
       "    <tr>\n",
       "      <th>1</th>\n",
       "      <td>221</td>\n",
       "      <td>88</td>\n",
       "      <td>44</td>\n",
       "      <td>85</td>\n",
       "      <td>139</td>\n",
       "      <td>56</td>\n",
       "      <td>11</td>\n",
       "      <td>157</td>\n",
       "      <td>43</td>\n",
       "      <td>20</td>\n",
       "      <td>155</td>\n",
       "      <td>176</td>\n",
       "      <td>363</td>\n",
       "      <td>175</td>\n",
       "      <td>76</td>\n",
       "      <td>5</td>\n",
       "      <td>16</td>\n",
       "      <td>184</td>\n",
       "      <td>195</td>\n",
       "    </tr>\n",
       "    <tr>\n",
       "      <th>2</th>\n",
       "      <td>73</td>\n",
       "      <td>73</td>\n",
       "      <td>37</td>\n",
       "      <td>53</td>\n",
       "      <td>111</td>\n",
       "      <td>54</td>\n",
       "      <td>6</td>\n",
       "      <td>126</td>\n",
       "      <td>55</td>\n",
       "      <td>18</td>\n",
       "      <td>128</td>\n",
       "      <td>135</td>\n",
       "      <td>227</td>\n",
       "      <td>147</td>\n",
       "      <td>82</td>\n",
       "      <td>1</td>\n",
       "      <td>15</td>\n",
       "      <td>176</td>\n",
       "      <td>184</td>\n",
       "    </tr>\n",
       "    <tr>\n",
       "      <th>3</th>\n",
       "      <td>152</td>\n",
       "      <td>93</td>\n",
       "      <td>35</td>\n",
       "      <td>72</td>\n",
       "      <td>172</td>\n",
       "      <td>62</td>\n",
       "      <td>7</td>\n",
       "      <td>149</td>\n",
       "      <td>44</td>\n",
       "      <td>19</td>\n",
       "      <td>124</td>\n",
       "      <td>169</td>\n",
       "      <td>334</td>\n",
       "      <td>125</td>\n",
       "      <td>62</td>\n",
       "      <td>5</td>\n",
       "      <td>30</td>\n",
       "      <td>203</td>\n",
       "      <td>210</td>\n",
       "    </tr>\n",
       "    <tr>\n",
       "      <th>4</th>\n",
       "      <td>281</td>\n",
       "      <td>82</td>\n",
       "      <td>43</td>\n",
       "      <td>73</td>\n",
       "      <td>154</td>\n",
       "      <td>65</td>\n",
       "      <td>7</td>\n",
       "      <td>151</td>\n",
       "      <td>44</td>\n",
       "      <td>19</td>\n",
       "      <td>143</td>\n",
       "      <td>178</td>\n",
       "      <td>341</td>\n",
       "      <td>160</td>\n",
       "      <td>76</td>\n",
       "      <td>5</td>\n",
       "      <td>11</td>\n",
       "      <td>185</td>\n",
       "      <td>189</td>\n",
       "    </tr>\n",
       "    <tr>\n",
       "      <th>5</th>\n",
       "      <td>801</td>\n",
       "      <td>84</td>\n",
       "      <td>38</td>\n",
       "      <td>60</td>\n",
       "      <td>128</td>\n",
       "      <td>56</td>\n",
       "      <td>5</td>\n",
       "      <td>132</td>\n",
       "      <td>50</td>\n",
       "      <td>18</td>\n",
       "      <td>130</td>\n",
       "      <td>148</td>\n",
       "      <td>261</td>\n",
       "      <td>141</td>\n",
       "      <td>75</td>\n",
       "      <td>8</td>\n",
       "      <td>4</td>\n",
       "      <td>185</td>\n",
       "      <td>188</td>\n",
       "    </tr>\n",
       "    <tr>\n",
       "      <th>6</th>\n",
       "      <td>822</td>\n",
       "      <td>95</td>\n",
       "      <td>41</td>\n",
       "      <td>82</td>\n",
       "      <td>170</td>\n",
       "      <td>65</td>\n",
       "      <td>9</td>\n",
       "      <td>145</td>\n",
       "      <td>46</td>\n",
       "      <td>19</td>\n",
       "      <td>145</td>\n",
       "      <td>163</td>\n",
       "      <td>314</td>\n",
       "      <td>140</td>\n",
       "      <td>64</td>\n",
       "      <td>4</td>\n",
       "      <td>8</td>\n",
       "      <td>199</td>\n",
       "      <td>207</td>\n",
       "    </tr>\n",
       "    <tr>\n",
       "      <th>7</th>\n",
       "      <td>456</td>\n",
       "      <td>92</td>\n",
       "      <td>43</td>\n",
       "      <td>70</td>\n",
       "      <td>124</td>\n",
       "      <td>52</td>\n",
       "      <td>6</td>\n",
       "      <td>139</td>\n",
       "      <td>49</td>\n",
       "      <td>18</td>\n",
       "      <td>144</td>\n",
       "      <td>164</td>\n",
       "      <td>282</td>\n",
       "      <td>172</td>\n",
       "      <td>79</td>\n",
       "      <td>4</td>\n",
       "      <td>16</td>\n",
       "      <td>183</td>\n",
       "      <td>185</td>\n",
       "    </tr>\n",
       "    <tr>\n",
       "      <th>8</th>\n",
       "      <td>578</td>\n",
       "      <td>92</td>\n",
       "      <td>46</td>\n",
       "      <td>82</td>\n",
       "      <td>170</td>\n",
       "      <td>58</td>\n",
       "      <td>8</td>\n",
       "      <td>165</td>\n",
       "      <td>40</td>\n",
       "      <td>20</td>\n",
       "      <td>149</td>\n",
       "      <td>181</td>\n",
       "      <td>409</td>\n",
       "      <td>164</td>\n",
       "      <td>61</td>\n",
       "      <td>8</td>\n",
       "      <td>11</td>\n",
       "      <td>200</td>\n",
       "      <td>208</td>\n",
       "    </tr>\n",
       "    <tr>\n",
       "      <th>9</th>\n",
       "      <td>24</td>\n",
       "      <td>99</td>\n",
       "      <td>53</td>\n",
       "      <td>105</td>\n",
       "      <td>219</td>\n",
       "      <td>66</td>\n",
       "      <td>11</td>\n",
       "      <td>204</td>\n",
       "      <td>32</td>\n",
       "      <td>23</td>\n",
       "      <td>165</td>\n",
       "      <td>221</td>\n",
       "      <td>623</td>\n",
       "      <td>224</td>\n",
       "      <td>68</td>\n",
       "      <td>0</td>\n",
       "      <td>6</td>\n",
       "      <td>191</td>\n",
       "      <td>201</td>\n",
       "    </tr>\n",
       "    <tr>\n",
       "      <th>10</th>\n",
       "      <td>781</td>\n",
       "      <td>88</td>\n",
       "      <td>42</td>\n",
       "      <td>64</td>\n",
       "      <td>151</td>\n",
       "      <td>62</td>\n",
       "      <td>8</td>\n",
       "      <td>130</td>\n",
       "      <td>51</td>\n",
       "      <td>18</td>\n",
       "      <td>142</td>\n",
       "      <td>150</td>\n",
       "      <td>253</td>\n",
       "      <td>161</td>\n",
       "      <td>63</td>\n",
       "      <td>3</td>\n",
       "      <td>2</td>\n",
       "      <td>203</td>\n",
       "      <td>210</td>\n",
       "    </tr>\n",
       "    <tr>\n",
       "      <th>11</th>\n",
       "      <td>663</td>\n",
       "      <td>89</td>\n",
       "      <td>47</td>\n",
       "      <td>83</td>\n",
       "      <td>169</td>\n",
       "      <td>61</td>\n",
       "      <td>8</td>\n",
       "      <td>164</td>\n",
       "      <td>40</td>\n",
       "      <td>20</td>\n",
       "      <td>150</td>\n",
       "      <td>189</td>\n",
       "      <td>402</td>\n",
       "      <td>190</td>\n",
       "      <td>72</td>\n",
       "      <td>7</td>\n",
       "      <td>10</td>\n",
       "      <td>187</td>\n",
       "      <td>193</td>\n",
       "    </tr>\n",
       "    <tr>\n",
       "      <th>12</th>\n",
       "      <td>255</td>\n",
       "      <td>112</td>\n",
       "      <td>50</td>\n",
       "      <td>110</td>\n",
       "      <td>186</td>\n",
       "      <td>56</td>\n",
       "      <td>11</td>\n",
       "      <td>214</td>\n",
       "      <td>31</td>\n",
       "      <td>24</td>\n",
       "      <td>159</td>\n",
       "      <td>232</td>\n",
       "      <td>676</td>\n",
       "      <td>203</td>\n",
       "      <td>71</td>\n",
       "      <td>18</td>\n",
       "      <td>27</td>\n",
       "      <td>191</td>\n",
       "      <td>202</td>\n",
       "    </tr>\n",
       "    <tr>\n",
       "      <th>13</th>\n",
       "      <td>575</td>\n",
       "      <td>109</td>\n",
       "      <td>54</td>\n",
       "      <td>103</td>\n",
       "      <td>220</td>\n",
       "      <td>66</td>\n",
       "      <td>11</td>\n",
       "      <td>214</td>\n",
       "      <td>31</td>\n",
       "      <td>24</td>\n",
       "      <td>167</td>\n",
       "      <td>229</td>\n",
       "      <td>677</td>\n",
       "      <td>212</td>\n",
       "      <td>70</td>\n",
       "      <td>1</td>\n",
       "      <td>23</td>\n",
       "      <td>188</td>\n",
       "      <td>201</td>\n",
       "    </tr>\n",
       "    <tr>\n",
       "      <th>14</th>\n",
       "      <td>459</td>\n",
       "      <td>98</td>\n",
       "      <td>42</td>\n",
       "      <td>90</td>\n",
       "      <td>192</td>\n",
       "      <td>61</td>\n",
       "      <td>9</td>\n",
       "      <td>178</td>\n",
       "      <td>37</td>\n",
       "      <td>21</td>\n",
       "      <td>144</td>\n",
       "      <td>189</td>\n",
       "      <td>480</td>\n",
       "      <td>138</td>\n",
       "      <td>61</td>\n",
       "      <td>3</td>\n",
       "      <td>8</td>\n",
       "      <td>199</td>\n",
       "      <td>208</td>\n",
       "    </tr>\n",
       "  </tbody>\n",
       "</table>\n",
       "</div>"
      ],
      "text/plain": [
       "     0    1   2    3    4   5   6    7   8   9    10   11   12   13  14  15  \\\n",
       "0   222  100  50   81  197  67   6  186  34  22  158  206  531  198  74   6   \n",
       "1   221   88  44   85  139  56  11  157  43  20  155  176  363  175  76   5   \n",
       "2    73   73  37   53  111  54   6  126  55  18  128  135  227  147  82   1   \n",
       "3   152   93  35   72  172  62   7  149  44  19  124  169  334  125  62   5   \n",
       "4   281   82  43   73  154  65   7  151  44  19  143  178  341  160  76   5   \n",
       "5   801   84  38   60  128  56   5  132  50  18  130  148  261  141  75   8   \n",
       "6   822   95  41   82  170  65   9  145  46  19  145  163  314  140  64   4   \n",
       "7   456   92  43   70  124  52   6  139  49  18  144  164  282  172  79   4   \n",
       "8   578   92  46   82  170  58   8  165  40  20  149  181  409  164  61   8   \n",
       "9    24   99  53  105  219  66  11  204  32  23  165  221  623  224  68   0   \n",
       "10  781   88  42   64  151  62   8  130  51  18  142  150  253  161  63   3   \n",
       "11  663   89  47   83  169  61   8  164  40  20  150  189  402  190  72   7   \n",
       "12  255  112  50  110  186  56  11  214  31  24  159  232  676  203  71  18   \n",
       "13  575  109  54  103  220  66  11  214  31  24  167  229  677  212  70   1   \n",
       "14  459   98  42   90  192  61   9  178  37  21  144  189  480  138  61   3   \n",
       "\n",
       "    16   17   18  \n",
       "0    1  197  198  \n",
       "1   16  184  195  \n",
       "2   15  176  184  \n",
       "3   30  203  210  \n",
       "4   11  185  189  \n",
       "5    4  185  188  \n",
       "6    8  199  207  \n",
       "7   16  183  185  \n",
       "8   11  200  208  \n",
       "9    6  191  201  \n",
       "10   2  203  210  \n",
       "11  10  187  193  \n",
       "12  27  191  202  \n",
       "13  23  188  201  \n",
       "14   8  199  208  "
      ]
     },
     "execution_count": 110,
     "metadata": {},
     "output_type": "execute_result"
    }
   ],
   "source": [
    "X_train_pd = pd.DataFrame(X_train)\n",
    "\n",
    "# First 15 rows of our dataset.\n",
    "X_train_pd.head(15)"
   ]
  },
  {
   "cell_type": "markdown",
   "metadata": {
    "nbgrader": {
     "grade": false,
     "grade_id": "cell-98e7d91d77d65fcf",
     "locked": true,
     "schema_version": 2,
     "solution": false
    }
   },
   "source": [
    "Methods `describe` and `info` deliver some useful information."
   ]
  },
  {
   "cell_type": "code",
   "execution_count": 111,
   "metadata": {},
   "outputs": [
    {
     "data": {
      "text/html": [
       "<div>\n",
       "<style scoped>\n",
       "    .dataframe tbody tr th:only-of-type {\n",
       "        vertical-align: middle;\n",
       "    }\n",
       "\n",
       "    .dataframe tbody tr th {\n",
       "        vertical-align: top;\n",
       "    }\n",
       "\n",
       "    .dataframe thead th {\n",
       "        text-align: right;\n",
       "    }\n",
       "</style>\n",
       "<table border=\"1\" class=\"dataframe\">\n",
       "  <thead>\n",
       "    <tr style=\"text-align: right;\">\n",
       "      <th></th>\n",
       "      <th>0</th>\n",
       "      <th>1</th>\n",
       "      <th>2</th>\n",
       "      <th>3</th>\n",
       "      <th>4</th>\n",
       "      <th>5</th>\n",
       "      <th>6</th>\n",
       "      <th>7</th>\n",
       "      <th>8</th>\n",
       "      <th>9</th>\n",
       "      <th>10</th>\n",
       "      <th>11</th>\n",
       "      <th>12</th>\n",
       "      <th>13</th>\n",
       "      <th>14</th>\n",
       "      <th>15</th>\n",
       "      <th>16</th>\n",
       "      <th>17</th>\n",
       "      <th>18</th>\n",
       "    </tr>\n",
       "  </thead>\n",
       "  <tbody>\n",
       "    <tr>\n",
       "      <th>count</th>\n",
       "      <td>549.000000</td>\n",
       "      <td>549.000000</td>\n",
       "      <td>549.000000</td>\n",
       "      <td>549.000000</td>\n",
       "      <td>549.000000</td>\n",
       "      <td>549.000000</td>\n",
       "      <td>549.000000</td>\n",
       "      <td>549.000000</td>\n",
       "      <td>549.000000</td>\n",
       "      <td>549.000000</td>\n",
       "      <td>549.000000</td>\n",
       "      <td>549.000000</td>\n",
       "      <td>549.000000</td>\n",
       "      <td>549.000000</td>\n",
       "      <td>549.000000</td>\n",
       "      <td>549.000000</td>\n",
       "      <td>549.000000</td>\n",
       "      <td>549.000000</td>\n",
       "      <td>549.000000</td>\n",
       "    </tr>\n",
       "    <tr>\n",
       "      <th>mean</th>\n",
       "      <td>416.754098</td>\n",
       "      <td>93.912568</td>\n",
       "      <td>44.961749</td>\n",
       "      <td>82.735883</td>\n",
       "      <td>169.726776</td>\n",
       "      <td>61.657559</td>\n",
       "      <td>8.703097</td>\n",
       "      <td>170.061931</td>\n",
       "      <td>40.630237</td>\n",
       "      <td>20.663024</td>\n",
       "      <td>148.333333</td>\n",
       "      <td>190.054645</td>\n",
       "      <td>446.096539</td>\n",
       "      <td>175.449909</td>\n",
       "      <td>72.630237</td>\n",
       "      <td>6.309654</td>\n",
       "      <td>12.391621</td>\n",
       "      <td>188.969035</td>\n",
       "      <td>195.644809</td>\n",
       "    </tr>\n",
       "    <tr>\n",
       "      <th>std</th>\n",
       "      <td>243.647929</td>\n",
       "      <td>8.304185</td>\n",
       "      <td>6.218966</td>\n",
       "      <td>15.852232</td>\n",
       "      <td>34.334630</td>\n",
       "      <td>8.565934</td>\n",
       "      <td>5.021597</td>\n",
       "      <td>33.135254</td>\n",
       "      <td>7.784734</td>\n",
       "      <td>2.569707</td>\n",
       "      <td>14.602644</td>\n",
       "      <td>31.756152</td>\n",
       "      <td>176.522914</td>\n",
       "      <td>33.082067</td>\n",
       "      <td>8.020951</td>\n",
       "      <td>4.839270</td>\n",
       "      <td>8.862164</td>\n",
       "      <td>6.186056</td>\n",
       "      <td>7.480112</td>\n",
       "    </tr>\n",
       "    <tr>\n",
       "      <th>min</th>\n",
       "      <td>0.000000</td>\n",
       "      <td>73.000000</td>\n",
       "      <td>33.000000</td>\n",
       "      <td>40.000000</td>\n",
       "      <td>104.000000</td>\n",
       "      <td>47.000000</td>\n",
       "      <td>2.000000</td>\n",
       "      <td>112.000000</td>\n",
       "      <td>26.000000</td>\n",
       "      <td>17.000000</td>\n",
       "      <td>118.000000</td>\n",
       "      <td>130.000000</td>\n",
       "      <td>184.000000</td>\n",
       "      <td>109.000000</td>\n",
       "      <td>60.000000</td>\n",
       "      <td>0.000000</td>\n",
       "      <td>0.000000</td>\n",
       "      <td>176.000000</td>\n",
       "      <td>181.000000</td>\n",
       "    </tr>\n",
       "    <tr>\n",
       "      <th>25%</th>\n",
       "      <td>215.000000</td>\n",
       "      <td>87.000000</td>\n",
       "      <td>40.000000</td>\n",
       "      <td>70.000000</td>\n",
       "      <td>140.000000</td>\n",
       "      <td>56.000000</td>\n",
       "      <td>7.000000</td>\n",
       "      <td>148.000000</td>\n",
       "      <td>33.000000</td>\n",
       "      <td>19.000000</td>\n",
       "      <td>138.000000</td>\n",
       "      <td>168.000000</td>\n",
       "      <td>321.000000</td>\n",
       "      <td>151.000000</td>\n",
       "      <td>67.000000</td>\n",
       "      <td>2.000000</td>\n",
       "      <td>5.000000</td>\n",
       "      <td>184.000000</td>\n",
       "      <td>191.000000</td>\n",
       "    </tr>\n",
       "    <tr>\n",
       "      <th>50%</th>\n",
       "      <td>411.000000</td>\n",
       "      <td>93.000000</td>\n",
       "      <td>44.000000</td>\n",
       "      <td>80.000000</td>\n",
       "      <td>169.000000</td>\n",
       "      <td>61.000000</td>\n",
       "      <td>8.000000</td>\n",
       "      <td>158.000000</td>\n",
       "      <td>43.000000</td>\n",
       "      <td>20.000000</td>\n",
       "      <td>146.000000</td>\n",
       "      <td>180.000000</td>\n",
       "      <td>368.000000</td>\n",
       "      <td>174.000000</td>\n",
       "      <td>72.000000</td>\n",
       "      <td>5.000000</td>\n",
       "      <td>11.000000</td>\n",
       "      <td>188.000000</td>\n",
       "      <td>197.000000</td>\n",
       "    </tr>\n",
       "    <tr>\n",
       "      <th>75%</th>\n",
       "      <td>626.000000</td>\n",
       "      <td>100.000000</td>\n",
       "      <td>50.000000</td>\n",
       "      <td>98.000000</td>\n",
       "      <td>197.000000</td>\n",
       "      <td>65.000000</td>\n",
       "      <td>10.000000</td>\n",
       "      <td>200.000000</td>\n",
       "      <td>46.000000</td>\n",
       "      <td>23.000000</td>\n",
       "      <td>160.000000</td>\n",
       "      <td>218.000000</td>\n",
       "      <td>602.000000</td>\n",
       "      <td>200.000000</td>\n",
       "      <td>76.000000</td>\n",
       "      <td>9.000000</td>\n",
       "      <td>18.000000</td>\n",
       "      <td>193.000000</td>\n",
       "      <td>201.000000</td>\n",
       "    </tr>\n",
       "    <tr>\n",
       "      <th>max</th>\n",
       "      <td>844.000000</td>\n",
       "      <td>119.000000</td>\n",
       "      <td>58.000000</td>\n",
       "      <td>112.000000</td>\n",
       "      <td>333.000000</td>\n",
       "      <td>138.000000</td>\n",
       "      <td>55.000000</td>\n",
       "      <td>265.000000</td>\n",
       "      <td>61.000000</td>\n",
       "      <td>29.000000</td>\n",
       "      <td>188.000000</td>\n",
       "      <td>320.000000</td>\n",
       "      <td>1018.000000</td>\n",
       "      <td>264.000000</td>\n",
       "      <td>135.000000</td>\n",
       "      <td>22.000000</td>\n",
       "      <td>41.000000</td>\n",
       "      <td>206.000000</td>\n",
       "      <td>211.000000</td>\n",
       "    </tr>\n",
       "  </tbody>\n",
       "</table>\n",
       "</div>"
      ],
      "text/plain": [
       "               0           1           2           3           4           5   \\\n",
       "count  549.000000  549.000000  549.000000  549.000000  549.000000  549.000000   \n",
       "mean   416.754098   93.912568   44.961749   82.735883  169.726776   61.657559   \n",
       "std    243.647929    8.304185    6.218966   15.852232   34.334630    8.565934   \n",
       "min      0.000000   73.000000   33.000000   40.000000  104.000000   47.000000   \n",
       "25%    215.000000   87.000000   40.000000   70.000000  140.000000   56.000000   \n",
       "50%    411.000000   93.000000   44.000000   80.000000  169.000000   61.000000   \n",
       "75%    626.000000  100.000000   50.000000   98.000000  197.000000   65.000000   \n",
       "max    844.000000  119.000000   58.000000  112.000000  333.000000  138.000000   \n",
       "\n",
       "               6           7           8           9           10          11  \\\n",
       "count  549.000000  549.000000  549.000000  549.000000  549.000000  549.000000   \n",
       "mean     8.703097  170.061931   40.630237   20.663024  148.333333  190.054645   \n",
       "std      5.021597   33.135254    7.784734    2.569707   14.602644   31.756152   \n",
       "min      2.000000  112.000000   26.000000   17.000000  118.000000  130.000000   \n",
       "25%      7.000000  148.000000   33.000000   19.000000  138.000000  168.000000   \n",
       "50%      8.000000  158.000000   43.000000   20.000000  146.000000  180.000000   \n",
       "75%     10.000000  200.000000   46.000000   23.000000  160.000000  218.000000   \n",
       "max     55.000000  265.000000   61.000000   29.000000  188.000000  320.000000   \n",
       "\n",
       "                12          13          14          15          16  \\\n",
       "count   549.000000  549.000000  549.000000  549.000000  549.000000   \n",
       "mean    446.096539  175.449909   72.630237    6.309654   12.391621   \n",
       "std     176.522914   33.082067    8.020951    4.839270    8.862164   \n",
       "min     184.000000  109.000000   60.000000    0.000000    0.000000   \n",
       "25%     321.000000  151.000000   67.000000    2.000000    5.000000   \n",
       "50%     368.000000  174.000000   72.000000    5.000000   11.000000   \n",
       "75%     602.000000  200.000000   76.000000    9.000000   18.000000   \n",
       "max    1018.000000  264.000000  135.000000   22.000000   41.000000   \n",
       "\n",
       "               17          18  \n",
       "count  549.000000  549.000000  \n",
       "mean   188.969035  195.644809  \n",
       "std      6.186056    7.480112  \n",
       "min    176.000000  181.000000  \n",
       "25%    184.000000  191.000000  \n",
       "50%    188.000000  197.000000  \n",
       "75%    193.000000  201.000000  \n",
       "max    206.000000  211.000000  "
      ]
     },
     "execution_count": 111,
     "metadata": {},
     "output_type": "execute_result"
    }
   ],
   "source": [
    "X_train_pd.describe()"
   ]
  },
  {
   "cell_type": "code",
   "execution_count": 112,
   "metadata": {},
   "outputs": [
    {
     "name": "stdout",
     "output_type": "stream",
     "text": [
      "<class 'pandas.core.frame.DataFrame'>\n",
      "RangeIndex: 549 entries, 0 to 548\n",
      "Data columns (total 19 columns):\n",
      " #   Column  Non-Null Count  Dtype\n",
      "---  ------  --------------  -----\n",
      " 0   0       549 non-null    int64\n",
      " 1   1       549 non-null    int64\n",
      " 2   2       549 non-null    int64\n",
      " 3   3       549 non-null    int64\n",
      " 4   4       549 non-null    int64\n",
      " 5   5       549 non-null    int64\n",
      " 6   6       549 non-null    int64\n",
      " 7   7       549 non-null    int64\n",
      " 8   8       549 non-null    int64\n",
      " 9   9       549 non-null    int64\n",
      " 10  10      549 non-null    int64\n",
      " 11  11      549 non-null    int64\n",
      " 12  12      549 non-null    int64\n",
      " 13  13      549 non-null    int64\n",
      " 14  14      549 non-null    int64\n",
      " 15  15      549 non-null    int64\n",
      " 16  16      549 non-null    int64\n",
      " 17  17      549 non-null    int64\n",
      " 18  18      549 non-null    int64\n",
      "dtypes: int64(19)\n",
      "memory usage: 81.6 KB\n"
     ]
    }
   ],
   "source": [
    "X_train_pd.info()"
   ]
  },
  {
   "cell_type": "markdown",
   "metadata": {
    "nbgrader": {
     "grade": false,
     "grade_id": "cell-be844269be69c387",
     "locked": true,
     "schema_version": 2,
     "solution": false
    }
   },
   "source": [
    "### 2. Machine Learning pipeline\n",
    "Here you are supposed to perform the desired transformations. Please, explain your results briefly after each task."
   ]
  },
  {
   "cell_type": "markdown",
   "metadata": {},
   "source": [
    "#### 2.0. Data preprocessing\n",
    "* Make some transformations of the dataset (if necessary). Briefly explain the transformations"
   ]
  },
  {
   "cell_type": "markdown",
   "metadata": {},
   "source": [
    "Надо отнормировать данные,\n",
    "а также добавить столбец свободных членов (потому что модель линейная)"
   ]
  },
  {
   "cell_type": "code",
   "execution_count": 113,
   "metadata": {
    "nbgrader": {
     "grade": true,
     "grade_id": "cell-a1514aa189a49fca",
     "locked": false,
     "points": 15,
     "schema_version": 2,
     "solution": true
    }
   },
   "outputs": [],
   "source": [
    "from sklearn.preprocessing import StandardScaler\n",
    "\n",
    "scaler = StandardScaler()\n",
    "X_train_pd = pd.DataFrame(scaler.fit_transform(X_train))\n",
    "X_test_pd = pd.DataFrame(scaler.fit_transform(X_test))\n"
   ]
  },
  {
   "cell_type": "code",
   "execution_count": 114,
   "metadata": {},
   "outputs": [
    {
     "data": {
      "text/html": [
       "<div>\n",
       "<style scoped>\n",
       "    .dataframe tbody tr th:only-of-type {\n",
       "        vertical-align: middle;\n",
       "    }\n",
       "\n",
       "    .dataframe tbody tr th {\n",
       "        vertical-align: top;\n",
       "    }\n",
       "\n",
       "    .dataframe thead th {\n",
       "        text-align: right;\n",
       "    }\n",
       "</style>\n",
       "<table border=\"1\" class=\"dataframe\">\n",
       "  <thead>\n",
       "    <tr style=\"text-align: right;\">\n",
       "      <th></th>\n",
       "      <th>0</th>\n",
       "      <th>1</th>\n",
       "      <th>2</th>\n",
       "      <th>3</th>\n",
       "      <th>4</th>\n",
       "      <th>5</th>\n",
       "      <th>6</th>\n",
       "      <th>7</th>\n",
       "      <th>8</th>\n",
       "      <th>9</th>\n",
       "      <th>10</th>\n",
       "      <th>11</th>\n",
       "      <th>12</th>\n",
       "      <th>13</th>\n",
       "      <th>14</th>\n",
       "      <th>15</th>\n",
       "      <th>16</th>\n",
       "      <th>17</th>\n",
       "      <th>18</th>\n",
       "      <th>bias term</th>\n",
       "    </tr>\n",
       "  </thead>\n",
       "  <tbody>\n",
       "    <tr>\n",
       "      <th>0</th>\n",
       "      <td>-0.800055</td>\n",
       "      <td>0.733724</td>\n",
       "      <td>0.810882</td>\n",
       "      <td>-0.109604</td>\n",
       "      <td>0.795060</td>\n",
       "      <td>0.624253</td>\n",
       "      <td>-0.538785</td>\n",
       "      <td>0.481439</td>\n",
       "      <td>-0.852474</td>\n",
       "      <td>0.520758</td>\n",
       "      <td>0.662584</td>\n",
       "      <td>0.502577</td>\n",
       "      <td>0.481416</td>\n",
       "      <td>0.682263</td>\n",
       "      <td>0.170929</td>\n",
       "      <td>-0.064046</td>\n",
       "      <td>-1.286594</td>\n",
       "      <td>1.299421</td>\n",
       "      <td>0.315148</td>\n",
       "      <td>1.0</td>\n",
       "    </tr>\n",
       "    <tr>\n",
       "      <th>1</th>\n",
       "      <td>-0.804163</td>\n",
       "      <td>-0.712648</td>\n",
       "      <td>-0.154789</td>\n",
       "      <td>0.142957</td>\n",
       "      <td>-0.895737</td>\n",
       "      <td>-0.661074</td>\n",
       "      <td>0.457822</td>\n",
       "      <td>-0.394560</td>\n",
       "      <td>0.304689</td>\n",
       "      <td>-0.258251</td>\n",
       "      <td>0.456955</td>\n",
       "      <td>-0.442984</td>\n",
       "      <td>-0.471170</td>\n",
       "      <td>-0.013612</td>\n",
       "      <td>0.420503</td>\n",
       "      <td>-0.270877</td>\n",
       "      <td>0.407538</td>\n",
       "      <td>-0.803996</td>\n",
       "      <td>-0.086282</td>\n",
       "      <td>1.0</td>\n",
       "    </tr>\n",
       "    <tr>\n",
       "      <th>2</th>\n",
       "      <td>-1.412151</td>\n",
       "      <td>-2.520613</td>\n",
       "      <td>-1.281404</td>\n",
       "      <td>-1.877528</td>\n",
       "      <td>-1.711984</td>\n",
       "      <td>-0.894770</td>\n",
       "      <td>-0.538785</td>\n",
       "      <td>-1.330973</td>\n",
       "      <td>1.847574</td>\n",
       "      <td>-1.037259</td>\n",
       "      <td>-1.393712</td>\n",
       "      <td>-1.735250</td>\n",
       "      <td>-1.242311</td>\n",
       "      <td>-0.860764</td>\n",
       "      <td>1.169227</td>\n",
       "      <td>-1.098202</td>\n",
       "      <td>0.294596</td>\n",
       "      <td>-2.098407</td>\n",
       "      <td>-1.558189</td>\n",
       "      <td>1.0</td>\n",
       "    </tr>\n",
       "    <tr>\n",
       "      <th>3</th>\n",
       "      <td>-1.087617</td>\n",
       "      <td>-0.109993</td>\n",
       "      <td>-1.603294</td>\n",
       "      <td>-0.677865</td>\n",
       "      <td>0.066268</td>\n",
       "      <td>0.040014</td>\n",
       "      <td>-0.339464</td>\n",
       "      <td>-0.636215</td>\n",
       "      <td>0.433263</td>\n",
       "      <td>-0.647755</td>\n",
       "      <td>-1.667885</td>\n",
       "      <td>-0.663615</td>\n",
       "      <td>-0.635605</td>\n",
       "      <td>-1.526383</td>\n",
       "      <td>-1.326517</td>\n",
       "      <td>-0.270877</td>\n",
       "      <td>1.988728</td>\n",
       "      <td>2.270229</td>\n",
       "      <td>1.920865</td>\n",
       "      <td>1.0</td>\n",
       "    </tr>\n",
       "    <tr>\n",
       "      <th>4</th>\n",
       "      <td>-0.557681</td>\n",
       "      <td>-1.435834</td>\n",
       "      <td>-0.315734</td>\n",
       "      <td>-0.614725</td>\n",
       "      <td>-0.458462</td>\n",
       "      <td>0.390557</td>\n",
       "      <td>-0.339464</td>\n",
       "      <td>-0.575801</td>\n",
       "      <td>0.433263</td>\n",
       "      <td>-0.647755</td>\n",
       "      <td>-0.365564</td>\n",
       "      <td>-0.379946</td>\n",
       "      <td>-0.595913</td>\n",
       "      <td>-0.467444</td>\n",
       "      <td>0.420503</td>\n",
       "      <td>-0.270877</td>\n",
       "      <td>-0.157173</td>\n",
       "      <td>-0.642195</td>\n",
       "      <td>-0.889140</td>\n",
       "      <td>1.0</td>\n",
       "    </tr>\n",
       "    <tr>\n",
       "      <th>5</th>\n",
       "      <td>1.578492</td>\n",
       "      <td>-1.194772</td>\n",
       "      <td>-1.120459</td>\n",
       "      <td>-1.435547</td>\n",
       "      <td>-1.216405</td>\n",
       "      <td>-0.661074</td>\n",
       "      <td>-0.738107</td>\n",
       "      <td>-1.149731</td>\n",
       "      <td>1.204705</td>\n",
       "      <td>-1.037259</td>\n",
       "      <td>-1.256625</td>\n",
       "      <td>-1.325507</td>\n",
       "      <td>-1.049526</td>\n",
       "      <td>-1.042297</td>\n",
       "      <td>0.295716</td>\n",
       "      <td>0.349616</td>\n",
       "      <td>-0.947768</td>\n",
       "      <td>-0.642195</td>\n",
       "      <td>-1.022950</td>\n",
       "      <td>1.0</td>\n",
       "    </tr>\n",
       "    <tr>\n",
       "      <th>6</th>\n",
       "      <td>1.664761</td>\n",
       "      <td>0.131069</td>\n",
       "      <td>-0.637624</td>\n",
       "      <td>-0.046464</td>\n",
       "      <td>0.007965</td>\n",
       "      <td>0.390557</td>\n",
       "      <td>0.059179</td>\n",
       "      <td>-0.757042</td>\n",
       "      <td>0.690410</td>\n",
       "      <td>-0.647755</td>\n",
       "      <td>-0.228477</td>\n",
       "      <td>-0.852727</td>\n",
       "      <td>-0.749008</td>\n",
       "      <td>-1.072552</td>\n",
       "      <td>-1.076943</td>\n",
       "      <td>-0.477708</td>\n",
       "      <td>-0.495999</td>\n",
       "      <td>1.623023</td>\n",
       "      <td>1.519435</td>\n",
       "      <td>1.0</td>\n",
       "    </tr>\n",
       "    <tr>\n",
       "      <th>7</th>\n",
       "      <td>0.161223</td>\n",
       "      <td>-0.230524</td>\n",
       "      <td>-0.315734</td>\n",
       "      <td>-0.804145</td>\n",
       "      <td>-1.333012</td>\n",
       "      <td>-1.128466</td>\n",
       "      <td>-0.538785</td>\n",
       "      <td>-0.938283</td>\n",
       "      <td>1.076131</td>\n",
       "      <td>-1.037259</td>\n",
       "      <td>-0.297021</td>\n",
       "      <td>-0.821208</td>\n",
       "      <td>-0.930453</td>\n",
       "      <td>-0.104378</td>\n",
       "      <td>0.794865</td>\n",
       "      <td>-0.477708</td>\n",
       "      <td>0.407538</td>\n",
       "      <td>-0.965798</td>\n",
       "      <td>-1.424379</td>\n",
       "      <td>1.0</td>\n",
       "    </tr>\n",
       "    <tr>\n",
       "      <th>8</th>\n",
       "      <td>0.662402</td>\n",
       "      <td>-0.230524</td>\n",
       "      <td>0.167101</td>\n",
       "      <td>-0.046464</td>\n",
       "      <td>0.007965</td>\n",
       "      <td>-0.427378</td>\n",
       "      <td>-0.140142</td>\n",
       "      <td>-0.152905</td>\n",
       "      <td>-0.081032</td>\n",
       "      <td>-0.258251</td>\n",
       "      <td>0.045695</td>\n",
       "      <td>-0.285390</td>\n",
       "      <td>-0.210343</td>\n",
       "      <td>-0.346422</td>\n",
       "      <td>-1.451305</td>\n",
       "      <td>0.349616</td>\n",
       "      <td>-0.157173</td>\n",
       "      <td>1.784825</td>\n",
       "      <td>1.653245</td>\n",
       "      <td>1.0</td>\n",
       "    </tr>\n",
       "    <tr>\n",
       "      <th>9</th>\n",
       "      <td>-1.613444</td>\n",
       "      <td>0.613193</td>\n",
       "      <td>1.293717</td>\n",
       "      <td>1.405759</td>\n",
       "      <td>1.436397</td>\n",
       "      <td>0.507405</td>\n",
       "      <td>0.457822</td>\n",
       "      <td>1.025163</td>\n",
       "      <td>-1.109621</td>\n",
       "      <td>0.910262</td>\n",
       "      <td>1.142387</td>\n",
       "      <td>0.975357</td>\n",
       "      <td>1.003070</td>\n",
       "      <td>1.468904</td>\n",
       "      <td>-0.577794</td>\n",
       "      <td>-1.305033</td>\n",
       "      <td>-0.721883</td>\n",
       "      <td>0.328613</td>\n",
       "      <td>0.716577</td>\n",
       "      <td>1.0</td>\n",
       "    </tr>\n",
       "    <tr>\n",
       "      <th>10</th>\n",
       "      <td>1.496332</td>\n",
       "      <td>-0.712648</td>\n",
       "      <td>-0.476679</td>\n",
       "      <td>-1.182986</td>\n",
       "      <td>-0.545917</td>\n",
       "      <td>0.040014</td>\n",
       "      <td>-0.140142</td>\n",
       "      <td>-1.210145</td>\n",
       "      <td>1.333279</td>\n",
       "      <td>-1.037259</td>\n",
       "      <td>-0.434107</td>\n",
       "      <td>-1.262470</td>\n",
       "      <td>-1.094887</td>\n",
       "      <td>-0.437188</td>\n",
       "      <td>-1.201730</td>\n",
       "      <td>-0.684540</td>\n",
       "      <td>-1.173652</td>\n",
       "      <td>2.270229</td>\n",
       "      <td>1.920865</td>\n",
       "      <td>1.0</td>\n",
       "    </tr>\n",
       "    <tr>\n",
       "      <th>11</th>\n",
       "      <td>1.011585</td>\n",
       "      <td>-0.592117</td>\n",
       "      <td>0.328047</td>\n",
       "      <td>0.016676</td>\n",
       "      <td>-0.021187</td>\n",
       "      <td>-0.076834</td>\n",
       "      <td>-0.140142</td>\n",
       "      <td>-0.183112</td>\n",
       "      <td>-0.081032</td>\n",
       "      <td>-0.258251</td>\n",
       "      <td>0.114239</td>\n",
       "      <td>-0.033241</td>\n",
       "      <td>-0.250034</td>\n",
       "      <td>0.440219</td>\n",
       "      <td>-0.078645</td>\n",
       "      <td>0.142785</td>\n",
       "      <td>-0.270115</td>\n",
       "      <td>-0.318592</td>\n",
       "      <td>-0.353901</td>\n",
       "      <td>1.0</td>\n",
       "    </tr>\n",
       "    <tr>\n",
       "      <th>12</th>\n",
       "      <td>-0.664490</td>\n",
       "      <td>2.180097</td>\n",
       "      <td>0.810882</td>\n",
       "      <td>1.721460</td>\n",
       "      <td>0.474392</td>\n",
       "      <td>-0.661074</td>\n",
       "      <td>0.457822</td>\n",
       "      <td>1.327231</td>\n",
       "      <td>-1.238195</td>\n",
       "      <td>1.299767</td>\n",
       "      <td>0.731127</td>\n",
       "      <td>1.322062</td>\n",
       "      <td>1.303588</td>\n",
       "      <td>0.833540</td>\n",
       "      <td>-0.203433</td>\n",
       "      <td>2.417928</td>\n",
       "      <td>1.649902</td>\n",
       "      <td>0.328613</td>\n",
       "      <td>0.850387</td>\n",
       "      <td>1.0</td>\n",
       "    </tr>\n",
       "    <tr>\n",
       "      <th>13</th>\n",
       "      <td>0.650078</td>\n",
       "      <td>1.818504</td>\n",
       "      <td>1.454662</td>\n",
       "      <td>1.279479</td>\n",
       "      <td>1.465549</td>\n",
       "      <td>0.507405</td>\n",
       "      <td>0.457822</td>\n",
       "      <td>1.327231</td>\n",
       "      <td>-1.238195</td>\n",
       "      <td>1.299767</td>\n",
       "      <td>1.279473</td>\n",
       "      <td>1.227506</td>\n",
       "      <td>1.309258</td>\n",
       "      <td>1.105839</td>\n",
       "      <td>-0.328220</td>\n",
       "      <td>-1.098202</td>\n",
       "      <td>1.198133</td>\n",
       "      <td>-0.156791</td>\n",
       "      <td>0.716577</td>\n",
       "      <td>1.0</td>\n",
       "    </tr>\n",
       "    <tr>\n",
       "      <th>14</th>\n",
       "      <td>0.173547</td>\n",
       "      <td>0.492662</td>\n",
       "      <td>-0.476679</td>\n",
       "      <td>0.458657</td>\n",
       "      <td>0.649302</td>\n",
       "      <td>-0.076834</td>\n",
       "      <td>0.059179</td>\n",
       "      <td>0.239784</td>\n",
       "      <td>-0.466753</td>\n",
       "      <td>0.131254</td>\n",
       "      <td>-0.297021</td>\n",
       "      <td>-0.033241</td>\n",
       "      <td>0.192238</td>\n",
       "      <td>-1.133063</td>\n",
       "      <td>-1.451305</td>\n",
       "      <td>-0.684540</td>\n",
       "      <td>-0.495999</td>\n",
       "      <td>1.623023</td>\n",
       "      <td>1.653245</td>\n",
       "      <td>1.0</td>\n",
       "    </tr>\n",
       "  </tbody>\n",
       "</table>\n",
       "</div>"
      ],
      "text/plain": [
       "           0         1         2         3         4         5         6  \\\n",
       "0  -0.800055  0.733724  0.810882 -0.109604  0.795060  0.624253 -0.538785   \n",
       "1  -0.804163 -0.712648 -0.154789  0.142957 -0.895737 -0.661074  0.457822   \n",
       "2  -1.412151 -2.520613 -1.281404 -1.877528 -1.711984 -0.894770 -0.538785   \n",
       "3  -1.087617 -0.109993 -1.603294 -0.677865  0.066268  0.040014 -0.339464   \n",
       "4  -0.557681 -1.435834 -0.315734 -0.614725 -0.458462  0.390557 -0.339464   \n",
       "5   1.578492 -1.194772 -1.120459 -1.435547 -1.216405 -0.661074 -0.738107   \n",
       "6   1.664761  0.131069 -0.637624 -0.046464  0.007965  0.390557  0.059179   \n",
       "7   0.161223 -0.230524 -0.315734 -0.804145 -1.333012 -1.128466 -0.538785   \n",
       "8   0.662402 -0.230524  0.167101 -0.046464  0.007965 -0.427378 -0.140142   \n",
       "9  -1.613444  0.613193  1.293717  1.405759  1.436397  0.507405  0.457822   \n",
       "10  1.496332 -0.712648 -0.476679 -1.182986 -0.545917  0.040014 -0.140142   \n",
       "11  1.011585 -0.592117  0.328047  0.016676 -0.021187 -0.076834 -0.140142   \n",
       "12 -0.664490  2.180097  0.810882  1.721460  0.474392 -0.661074  0.457822   \n",
       "13  0.650078  1.818504  1.454662  1.279479  1.465549  0.507405  0.457822   \n",
       "14  0.173547  0.492662 -0.476679  0.458657  0.649302 -0.076834  0.059179   \n",
       "\n",
       "           7         8         9        10        11        12        13  \\\n",
       "0   0.481439 -0.852474  0.520758  0.662584  0.502577  0.481416  0.682263   \n",
       "1  -0.394560  0.304689 -0.258251  0.456955 -0.442984 -0.471170 -0.013612   \n",
       "2  -1.330973  1.847574 -1.037259 -1.393712 -1.735250 -1.242311 -0.860764   \n",
       "3  -0.636215  0.433263 -0.647755 -1.667885 -0.663615 -0.635605 -1.526383   \n",
       "4  -0.575801  0.433263 -0.647755 -0.365564 -0.379946 -0.595913 -0.467444   \n",
       "5  -1.149731  1.204705 -1.037259 -1.256625 -1.325507 -1.049526 -1.042297   \n",
       "6  -0.757042  0.690410 -0.647755 -0.228477 -0.852727 -0.749008 -1.072552   \n",
       "7  -0.938283  1.076131 -1.037259 -0.297021 -0.821208 -0.930453 -0.104378   \n",
       "8  -0.152905 -0.081032 -0.258251  0.045695 -0.285390 -0.210343 -0.346422   \n",
       "9   1.025163 -1.109621  0.910262  1.142387  0.975357  1.003070  1.468904   \n",
       "10 -1.210145  1.333279 -1.037259 -0.434107 -1.262470 -1.094887 -0.437188   \n",
       "11 -0.183112 -0.081032 -0.258251  0.114239 -0.033241 -0.250034  0.440219   \n",
       "12  1.327231 -1.238195  1.299767  0.731127  1.322062  1.303588  0.833540   \n",
       "13  1.327231 -1.238195  1.299767  1.279473  1.227506  1.309258  1.105839   \n",
       "14  0.239784 -0.466753  0.131254 -0.297021 -0.033241  0.192238 -1.133063   \n",
       "\n",
       "          14        15        16        17        18  bias term  \n",
       "0   0.170929 -0.064046 -1.286594  1.299421  0.315148        1.0  \n",
       "1   0.420503 -0.270877  0.407538 -0.803996 -0.086282        1.0  \n",
       "2   1.169227 -1.098202  0.294596 -2.098407 -1.558189        1.0  \n",
       "3  -1.326517 -0.270877  1.988728  2.270229  1.920865        1.0  \n",
       "4   0.420503 -0.270877 -0.157173 -0.642195 -0.889140        1.0  \n",
       "5   0.295716  0.349616 -0.947768 -0.642195 -1.022950        1.0  \n",
       "6  -1.076943 -0.477708 -0.495999  1.623023  1.519435        1.0  \n",
       "7   0.794865 -0.477708  0.407538 -0.965798 -1.424379        1.0  \n",
       "8  -1.451305  0.349616 -0.157173  1.784825  1.653245        1.0  \n",
       "9  -0.577794 -1.305033 -0.721883  0.328613  0.716577        1.0  \n",
       "10 -1.201730 -0.684540 -1.173652  2.270229  1.920865        1.0  \n",
       "11 -0.078645  0.142785 -0.270115 -0.318592 -0.353901        1.0  \n",
       "12 -0.203433  2.417928  1.649902  0.328613  0.850387        1.0  \n",
       "13 -0.328220 -1.098202  1.198133 -0.156791  0.716577        1.0  \n",
       "14 -1.451305 -0.684540 -0.495999  1.623023  1.653245        1.0  "
      ]
     },
     "execution_count": 114,
     "metadata": {},
     "output_type": "execute_result"
    }
   ],
   "source": [
    "\n",
    "X_train_pd[\"bias term\"] = np.ones(X_train_pd.shape[0])\n",
    "X_test_pd[\"bias term\"] = np.ones(X_test_pd.shape[0])\n",
    "X_train_pd.head(15)"
   ]
  },
  {
   "cell_type": "markdown",
   "metadata": {},
   "source": [
    "#### 2.1. Basic logistic regression\n",
    "* Find optimal hyperparameters for logistic regression with cross-validation on the `train` data (small grid/random search is enough, no need to find the *best* parameters).\n",
    "\n",
    "* Estimate the model quality with `f1` and `accuracy` scores.\n",
    "* Plot a ROC-curve for the trained model. For the multiclass case you might use `scikitplot` library (e.g. `scikitplot.metrics.plot_roc(test_labels, predicted_proba)`).\n",
    "\n",
    "*Note: please, use the following hyperparameters for logistic regression: `multi_class='multinomial'`, `solver='saga'` `tol=1e-3` and ` max_iter=500`.*"
   ]
  },
  {
   "cell_type": "code",
   "execution_count": 115,
   "metadata": {
    "nbgrader": {
     "grade": true,
     "grade_id": "cell-1dd5ad5d0845cbbb",
     "locked": false,
     "points": 5,
     "schema_version": 2,
     "solution": true
    }
   },
   "outputs": [],
   "source": [
    "from sklearn.linear_model import LogisticRegression\n",
    "from sklearn.metrics import f1_score\n",
    "from sklearn.metrics import accuracy_score\n",
    "from sklearn.model_selection import cross_val_score\n",
    "import matplotlib.pyplot as plt\n",
    "from sklearn.model_selection import GridSearchCV"
   ]
  },
  {
   "cell_type": "code",
   "execution_count": 116,
   "metadata": {},
   "outputs": [],
   "source": [
    "import warnings\n",
    "warnings.filterwarnings('ignore')"
   ]
  },
  {
   "cell_type": "code",
   "execution_count": 166,
   "metadata": {},
   "outputs": [
    {
     "name": "stdout",
     "output_type": "stream",
     "text": [
      "Best parameters:  {'C': 0.01}\n"
     ]
    }
   ],
   "source": [
    "    \n",
    "model = LogisticRegression(multi_class='multinomial', solver='saga', tol=1e-3, max_iter=500)   \n",
    "param_grid = {'C': [0.01, 0.05, 0.1, 0.2, 0.4, 0.7, 1, 2, 4] \n",
    "grid = GridSearchCV(estimator=model, param_grid=param_grid, cv=5\n",
    "grid_result = grid.fit(X_train, y_train)\n",
    "print('Best parameters: ', grid_result.best_params_)"
   ]
  },
  {
   "cell_type": "code",
   "execution_count": 167,
   "metadata": {},
   "outputs": [],
   "source": [
    "C = 0.01\n"
   ]
  },
  {
   "cell_type": "code",
   "execution_count": 168,
   "metadata": {},
   "outputs": [
    {
     "data": {
      "image/png": "[encoded data removed]",
      "text/plain": [
       "<Figure size 576x576 with 1 Axes>"
      ]
     },
     "metadata": {
      "needs_background": "light"
     },
     "output_type": "display_data"
    }
   ],
   "source": [
    "import scikitplot\n",
    "\n",
    "model = LogisticRegression(C=C, multi_class='multinomial', solver='saga', tol=1e-3, max_iter=500)\n",
    "model.fit(X_train_pd, y_train)\n",
    "\n",
    "y_predicted_proba = model.predict_proba(X_test_pd)\n",
    "scikitplot.metrics.plot_roc(y_test, y_predicted_proba, figsize=(8, 8))\n",
    "plt.show()"
   ]
  },
  {
   "cell_type": "markdown",
   "metadata": {},
   "source": [
    "Модель лучше всего предсказывает van и bus."
   ]
  },
  {
   "cell_type": "code",
   "execution_count": 122,
   "metadata": {},
   "outputs": [],
   "source": [
    "# You might use this command to install scikit-plot. \n",
    "# Warning, if you a running locally, don't call pip from within jupyter, call it from terminal in the corresponding \n",
    "# virtual environment instead\n",
    "\n",
    "# ! pip install scikit-plot"
   ]
  },
  {
   "cell_type": "markdown",
   "metadata": {},
   "source": [
    "#### 2.2. PCA: explained variance plot\n",
    "* Apply the PCA to the train part of the data. Build the explaided variance plot. "
   ]
  },
  {
   "cell_type": "code",
   "execution_count": 123,
   "metadata": {
    "nbgrader": {
     "grade": true,
     "grade_id": "cell-c6c614740bce090e",
     "locked": false,
     "points": 10,
     "schema_version": 2,
     "solution": true
    }
   },
   "outputs": [],
   "source": [
    "from sklearn.decomposition import PCA"
   ]
  },
  {
   "cell_type": "code",
   "execution_count": 124,
   "metadata": {},
   "outputs": [
    {
     "data": {
      "image/png": "[encoded data removed]",
      "text/plain": [
       "<Figure size 1080x720 with 1 Axes>"
      ]
     },
     "metadata": {
      "needs_background": "light"
     },
     "output_type": "display_data"
    }
   ],
   "source": [
    "pca = PCA()\n",
    "pca.fit(X_train_pd)\n",
    "explained_variance = pca.explained_variance_\n",
    "\n",
    "plt.figure(figsize = (15, 10))\n",
    "plt.plot(np.arange(0, len(explained_variance)), explained_variance, \"-o\")\n",
    "plt.xlim((0, X_train.shape[1] - 1))\n",
    "plt.ylim((0, np.max(explained_variance)))\n",
    "plt.xlabel('component')\n",
    "plt.ylabel('variance')\n",
    "plt.title('variance for each component')\n",
    "plt.xticks(np.arange(0, X_train_pd.shape[1], 2))\n",
    "\n",
    "plt.show()"
   ]
  },
  {
   "cell_type": "markdown",
   "metadata": {},
   "source": [
    "Из графикa видно, что большая часть дисперсии содержится в первых 8-10 компонентах"
   ]
  },
  {
   "cell_type": "markdown",
   "metadata": {
    "nbgrader": {
     "grade": false,
     "grade_id": "cell-0c1fe666f52fe53c",
     "locked": true,
     "schema_version": 2,
     "solution": false
    }
   },
   "source": [
    "#### 2.3. PCA trasformation\n",
    "* Select the appropriate number of components. Briefly explain your choice. Should you normalize the data?\n",
    "\n",
    "*Use `fit` and `transform` methods to transform the `train` and `test` parts.*"
   ]
  },
  {
   "cell_type": "code",
   "execution_count": 125,
   "metadata": {},
   "outputs": [
    {
     "name": "stdout",
     "output_type": "stream",
     "text": [
      "1 components cover 49.0% of variance\n",
      "2 components cover 65.0% of variance\n",
      "3 components cover 76.0% of variance\n",
      "4 components cover 82.0% of variance\n",
      "5 components cover 87.0% of variance\n",
      "6 components cover 92.0% of variance\n",
      "7 components cover 95.0% of variance\n",
      "8 components cover 97.0% of variance\n",
      "9 components cover 98.0% of variance\n",
      "10 components cover 98.0% of variance\n",
      "11 components cover 99.0% of variance\n",
      "12 components cover 99.0% of variance\n",
      "13 components cover 100.0% of variance\n",
      "14 components cover 100.0% of variance\n",
      "15 components cover 100.0% of variance\n",
      "16 components cover 100.0% of variance\n",
      "17 components cover 100.0% of variance\n",
      "18 components cover 100.0% of variance\n",
      "19 components cover 100.0% of variance\n"
     ]
    }
   ],
   "source": [
    "import plotly.express as px\n",
    "\n",
    "X = np.copy(X_train_pd)\n",
    "\n",
    "pca = PCA()\n",
    "pca.fit(X)\n",
    "\n",
    "for i in range(1, X.shape[1]):\n",
    "    percent = 100 * pca.explained_variance_ratio_[:i].sum().round(2)\n",
    "    print(f'{i} components cover {percent}% of variance')"
   ]
  },
  {
   "cell_type": "markdown",
   "metadata": {},
   "source": [
    "Видно, что 99 процентов дисперсии содержется в 11 компонентах. Оставим их"
   ]
  },
  {
   "cell_type": "code",
   "execution_count": 126,
   "metadata": {},
   "outputs": [],
   "source": [
    "components = 11\n",
    "my_PCA  = PCA(n_components=components)\n",
    "X_train_pca = my_PCA.fit_transform(X_train)\n",
    "X_test_pca = my_PCA.transform(X_test)"
   ]
  },
  {
   "cell_type": "markdown",
   "metadata": {},
   "source": [
    "**Note: From this point `sklearn` [Pipeline](https://scikit-learn.org/stable/modules/compose.html) might be useful to perform transformations on the data. Refer to the [docs](https://scikit-learn.org/stable/modules/generated/sklearn.pipeline.Pipeline.html) for more information.**"
   ]
  },
  {
   "cell_type": "markdown",
   "metadata": {
    "nbgrader": {
     "grade": false,
     "grade_id": "cell-d28b58a35c94e988",
     "locked": true,
     "schema_version": 2,
     "solution": false
    }
   },
   "source": [
    "#### 2.4. Logistic regression on PCA-preprocessed data.\n",
    "* Find optimal hyperparameters for logistic regression with cross-validation on the transformed by PCA `train` data.\n",
    "\n",
    "* Estimate the model quality with `f1` and `accuracy` scores.\n",
    "* Plot a ROC-curve for the trained model. For the multiclass case you might use `scikitplot` library (e.g. `scikitplot.metrics.plot_roc(test_labels, predicted_proba)`).\n",
    "\n",
    "*Note: please, use the following hyperparameters for logistic regression: `multi_class='multinomial'`, `solver='saga'` and `tol=1e-3`*"
   ]
  },
  {
   "cell_type": "code",
   "execution_count": 127,
   "metadata": {},
   "outputs": [
    {
     "name": "stdout",
     "output_type": "stream",
     "text": [
      "Best score:  0.6702919099249375\n",
      "Best parameters:  {'C': 0.1}\n"
     ]
    }
   ],
   "source": [
    "model = LogisticRegression(multi_class='multinomial', solver='saga', tol=1e-3, max_iter=1000)\n",
    "param_grid = {'C': [0.001, 0.01, 0.1, 1.0, 10, 20, 30, 50, 100, 200, 500, 1000] }\n",
    "grid = GridSearchCV(estimator=model, param_grid=param_grid, cv=5)\n",
    "grid_result = grid.fit(X_train_pca, y_train)\n",
    "\n",
    "print('Best score: ', grid_result.best_score_)\n",
    "print('Best parameters: ', grid_result.best_params_)"
   ]
  },
  {
   "cell_type": "markdown",
   "metadata": {},
   "source": [
    "Наибольшая оценка достигается при C = 0.1"
   ]
  },
  {
   "cell_type": "code",
   "execution_count": 128,
   "metadata": {},
   "outputs": [],
   "source": [
    "C = 0.1"
   ]
  },
  {
   "cell_type": "code",
   "execution_count": 129,
   "metadata": {},
   "outputs": [
    {
     "data": {
      "image/png": "[encoded data removed]",
      "text/plain": [
       "<Figure size 576x576 with 1 Axes>"
      ]
     },
     "metadata": {
      "needs_background": "light"
     },
     "output_type": "display_data"
    }
   ],
   "source": [
    "model = LogisticRegression(C=C, multi_class='multinomial', solver='saga', tol=1e-3, max_iter=500)\n",
    "model.fit(X_train_pca, y_train)\n",
    "\n",
    "X_test_transform = pca.transform(X_test_pd)\n",
    "\n",
    "y_predicted_proba = model.predict_proba(X_test_pca)\n",
    "scikitplot.metrics.plot_roc(y_test, y_predicted_proba, figsize=(8, 8))\n",
    "plt.show()"
   ]
  },
  {
   "cell_type": "markdown",
   "metadata": {},
   "source": [
    "van предсказывается так же хорошо, остальное похуже, но зато удалось сократить количество столбцов почти в 2 раза.\n"
   ]
  },
  {
   "cell_type": "markdown",
   "metadata": {
    "nbgrader": {
     "grade": false,
     "grade_id": "cell-4fbf16c64076e139",
     "locked": true,
     "schema_version": 2,
     "solution": false
    }
   },
   "source": [
    "#### 2.5. Decision tree\n",
    "* Now train a desicion tree on the same data. Find optimal tree depth (`max_depth`) using cross-validation.\n",
    "\n",
    "* Measure the model quality using the same metrics you used above."
   ]
  },
  {
   "cell_type": "code",
   "execution_count": 130,
   "metadata": {
    "nbgrader": {
     "grade": true,
     "grade_id": "cell-748ed20b51c67fab",
     "locked": false,
     "points": 15,
     "schema_version": 2,
     "solution": true
    }
   },
   "outputs": [],
   "source": [
    "from sklearn.tree import DecisionTreeClassifier\n"
   ]
  },
  {
   "cell_type": "code",
   "execution_count": 131,
   "metadata": {},
   "outputs": [],
   "source": [
    "tree_model = DecisionTreeClassifier()"
   ]
  },
  {
   "cell_type": "code",
   "execution_count": 132,
   "metadata": {},
   "outputs": [
    {
     "name": "stdout",
     "output_type": "stream",
     "text": [
      "optimal tree depth = 13\n"
     ]
    }
   ],
   "source": [
    "param_grid = {'max_depth' : np.linspace(1, 20, 20)}\n",
    "\n",
    "clf = GridSearchCV(estimator=tree_model, param_grid=param_grid)\n",
    "best_clf = clf.fit(X_train_pca, y_train)\n",
    "best_tree = best_clf.best_estimator_\n",
    "print('optimal tree depth = {}'.format(best_tree.get_depth()))"
   ]
  },
  {
   "cell_type": "code",
   "execution_count": 133,
   "metadata": {},
   "outputs": [],
   "source": [
    "depth = 13"
   ]
  },
  {
   "cell_type": "code",
   "execution_count": 134,
   "metadata": {},
   "outputs": [],
   "source": [
    "tree = DecisionTreeClassifier(max_depth=depth)\n",
    "tree.fit(X_train, y_train)\n",
    "\n",
    "lr_predictions = tree.predict_proba(X_test)"
   ]
  },
  {
   "cell_type": "code",
   "execution_count": 135,
   "metadata": {},
   "outputs": [
    {
     "data": {
      "text/plain": [
       "<AxesSubplot:title={'center':'ROC Curves'}, xlabel='False Positive Rate', ylabel='True Positive Rate'>"
      ]
     },
     "execution_count": 135,
     "metadata": {},
     "output_type": "execute_result"
    },
    {
     "data": {
      "image/png": "[encoded data removed]",
      "text/plain": [
       "<Figure size 432x288 with 1 Axes>"
      ]
     },
     "metadata": {
      "needs_background": "light"
     },
     "output_type": "display_data"
    }
   ],
   "source": [
    "scikitplot.metrics.plot_roc(y_test, lr_predictions)"
   ]
  },
  {
   "cell_type": "markdown",
   "metadata": {
    "nbgrader": {
     "grade": false,
     "grade_id": "cell-9eadd4d8a03ae67a",
     "locked": true,
     "schema_version": 2,
     "solution": false
    }
   },
   "source": [
    "#### 2.6. Bagging.\n",
    "Here starts the ensembling part.\n",
    "\n",
    "First we will use the __Bagging__ approach. Build an ensemble of $N$ algorithms varying N from $N_{min}=2$ to $N_{max}=100$ (with step 5).\n",
    "\n",
    "We will build two ensembles: of logistic regressions and of decision trees.\n",
    "\n",
    "*Comment: each ensemble should be constructed from models of the same family, so logistic regressions should not be mixed up with decision trees.*\n",
    "\n",
    "\n",
    "*Hint 1: To build a __Bagging__ ensebmle varying the ensemble size efficiently you might generate $N_{max}$ subsets of `train` data (of the same size as the original dataset) using bootstrap procedure once. Then you train a new instance of logistic regression/decision tree with optimal hyperparameters you estimated before on each subset (so you train it from scratch). Finally, to get an ensemble of $N$ models you average the $N$ out of $N_{max}$ models predictions.*\n",
    "\n",
    "*Hint 2: sklearn might help you with this taks. Some appropriate function/class might be out there.*\n",
    "\n",
    "* Plot `f1` and `accuracy` scores plots w.r.t. the size of the ensemble.\n",
    "\n",
    "* Briefly analyse the plot. What is the optimal number of algorithms? Explain your answer.\n",
    "\n",
    "* How do you think, are the hyperparameters for the decision trees you found in 2.5 optimal for trees used in ensemble? "
   ]
  },
  {
   "cell_type": "code",
   "execution_count": 136,
   "metadata": {},
   "outputs": [],
   "source": [
    "from sklearn.ensemble import BaggingClassifier"
   ]
  },
  {
   "cell_type": "code",
   "execution_count": 137,
   "metadata": {},
   "outputs": [],
   "source": [
    "N_array = [i * 5 + 2 for i in range(20)] + [100]\n"
   ]
  },
  {
   "cell_type": "code",
   "execution_count": 138,
   "metadata": {},
   "outputs": [],
   "source": [
    "base_estimator = LogisticRegression(multi_class=\"multinomial\", solver=\"saga\", tol=1e-3, max_iter=500, C = 10)\n",
    "\n",
    "base_estimator_tree = DecisionTreeClassifier(max_depth = 13)"
   ]
  },
  {
   "cell_type": "code",
   "execution_count": null,
   "metadata": {},
   "outputs": [],
   "source": []
  },
  {
   "cell_type": "code",
   "execution_count": 139,
   "metadata": {
    "nbgrader": {
     "grade": true,
     "grade_id": "cell-8fc95a2b206bdae1",
     "locked": false,
     "points": 35,
     "schema_version": 2,
     "solution": true
    }
   },
   "outputs": [],
   "source": [
    "acc_scores_log = []\n",
    "acc_scores_tree = []\n",
    "f1_scores_log = []\n",
    "f1_scores_tree = []\n",
    "\n",
    "for n in N_array:\n",
    "        model_log = BaggingClassifier(base_estimator, n)\n",
    "        model_tree = BaggingClassifier(base_estimator_tree, n)\n",
    "        \n",
    "        model_log.fit(X_train, y_train)\n",
    "        model_tree.fit(X_train, y_train)\n",
    "        \n",
    "        y_pred_log = model_log.predict(X_test)\n",
    "        y_pred_tree = model_tree.predict(X_test)\n",
    "        \n",
    "        acc_scores_log.append(accuracy_score(y_test, y_pred_log))\n",
    "        acc_scores_tree.append(accuracy_score(y_test, y_pred_tree))\n",
    "        \n",
    "        f1_scores_log.append(f1_score(y_test, y_pred_log, average=\"macro\"))\n",
    "        f1_scores_tree.append(f1_score(y_test, y_pred_tree, average=\"macro\"))"
   ]
  },
  {
   "cell_type": "code",
   "execution_count": 148,
   "metadata": {},
   "outputs": [
    {
     "data": {
      "image/png": "[encoded data removed]",
      "text/plain": [
       "<Figure size 432x288 with 1 Axes>"
      ]
     },
     "metadata": {
      "needs_background": "light"
     },
     "output_type": "display_data"
    }
   ],
   "source": [
    "plt.plot(N_array, np.array(acc_scores_tree), label='accuracy')\n",
    "plt.plot(N_array, np.array(f1_scores_tree), label='f1 scroe')\n",
    "plt.legend()\n",
    "plt.xlabel('number of algorithms')\n",
    "plt.ylabel('score')\n",
    "plt.title('decision tree')\n",
    "plt.show()"
   ]
  },
  {
   "cell_type": "code",
   "execution_count": 147,
   "metadata": {},
   "outputs": [
    {
     "data": {
      "image/png": "[encoded data removed]",
      "text/plain": [
       "<Figure size 432x288 with 1 Axes>"
      ]
     },
     "metadata": {
      "needs_background": "light"
     },
     "output_type": "display_data"
    }
   ],
   "source": [
    "plt.plot(N_array, np.array(acc_scores_log), label='accuracy')\n",
    "plt.plot(N_array, np.array(f1_scores_log), label='f1 score')\n",
    "plt.legend()\n",
    "plt.xlabel('number of algorithms')\n",
    "plt.ylabel('score')\n",
    "plt.title('logistic regression')\n",
    "plt.show()"
   ]
  },
  {
   "cell_type": "markdown",
   "metadata": {},
   "source": [
    "Decision tree shwos the best result when number of algorithms is around 12. Logistic regression is also better when number of algorithms is around 12 and also when number of algorithms is around 75"
   ]
  },
  {
   "cell_type": "markdown",
   "metadata": {
    "nbgrader": {
     "grade": false,
     "grade_id": "cell-241b7691ab44cbfb",
     "locked": true,
     "schema_version": 2,
     "solution": false
    }
   },
   "source": [
    "#### 2.7. Random Forest\n",
    "Now we will work with the Random Forest (its `sklearn` implementation).\n",
    "\n",
    "* * Plot `f1` and `accuracy` scores plots w.r.t. the number of trees in Random Forest.\n",
    "\n",
    "* What is the optimal number of trees you've got? Is it different from the optimal number of logistic regressions/decision trees in 2.6? Explain the results briefly."
   ]
  },
  {
   "cell_type": "code",
   "execution_count": 140,
   "metadata": {
    "nbgrader": {
     "grade": true,
     "grade_id": "cell-888755d0f3d91620",
     "locked": false,
     "points": 15,
     "schema_version": 2,
     "solution": true
    }
   },
   "outputs": [],
   "source": [
    "from sklearn.ensemble import RandomForestClassifier\n",
    "\n",
    "f1_metrics.clear()\n",
    "accuracy_metrics.clear()\n",
    "N_grid = np.arange(1, 200, 10)\n",
    "\n",
    "for N in N_grid:\n",
    "    trained_model = RandomForestClassifier(n_estimators=N)\n",
    "    trained_model.fit(X_train, y_train)\n",
    "    y_pred = trained_model.predict(X_test)\n",
    "    \n",
    "    f1_metrics.append(f1_score(y_test, y_pred, average='macro'))\n",
    "    accuracy_metrics.append(accuracy_score(y_test, y_pred))"
   ]
  },
  {
   "cell_type": "code",
   "execution_count": 150,
   "metadata": {},
   "outputs": [
    {
     "data": {
      "image/png": "[encoded data removed]",
      "text/plain": [
       "<Figure size 1080x720 with 1 Axes>"
      ]
     },
     "metadata": {
      "needs_background": "light"
     },
     "output_type": "display_data"
    }
   ],
   "source": [
    "plt.figure(figsize=(15, 10))\n",
    "plt.plot(N_grid, f1_metrics, label='f1')\n",
    "plt.plot(N_grid, accuracy_metrics, label='accuracy')\n",
    "plt.xlabel('Number of algorithms')\n",
    "plt.ylabel('Score')\n",
    "plt.legend()\n",
    "plt.grid(True)"
   ]
  },
  {
   "cell_type": "markdown",
   "metadata": {},
   "source": [
    "Maximum of accuracy and f1 metrics is when number of algorithms is 140"
   ]
  },
  {
   "cell_type": "markdown",
   "metadata": {
    "nbgrader": {
     "grade": false,
     "grade_id": "cell-99191c0852538d4d",
     "locked": true,
     "schema_version": 2,
     "solution": false
    }
   },
   "source": [
    "#### 2.8. Learning curve\n",
    "Your goal is to estimate, how does the model behaviour change with the increase of the `train` dataset size.\n",
    "\n",
    "* Split the training data into 10 equal (almost) parts. Then train the models from above (Logistic regression, Desicion Tree, Random Forest) with optimal hyperparameters you have selected on 1 part, 2 parts (combined, so the train size in increased by 2 times), 3 parts and so on.\n",
    "\n",
    "* Build a plot of `accuracy` and `f1` scores on `test` part, varying the `train` dataset size (so the axes will be score - dataset size.\n",
    "\n",
    "* Analyse the final plot. Can you make any conlusions using it? "
   ]
  },
  {
   "cell_type": "markdown",
   "metadata": {},
   "source": []
  }
 ],
 "metadata": {
  "celltoolbar": "Create Assignment",
  "kernelspec": {
   "display_name": "Python 3",
   "language": "python",
   "name": "python3"
  },
  "language_info": {
   "codemirror_mode": {
    "name": "ipython",
    "version": 3
   },
   "file_extension": ".py",
   "mimetype": "text/x-python",
   "name": "python",
   "nbconvert_exporter": "python",
   "pygments_lexer": "ipython3",
   "version": "3.7.0"
  },
  "toc": {
   "base_numbering": 1,
   "nav_menu": {},
   "number_sections": false,
   "sideBar": true,
   "skip_h1_title": false,
   "title_cell": "Table of Contents",
   "title_sidebar": "Contents",
   "toc_cell": false,
   "toc_position": {},
   "toc_section_display": true,
   "toc_window_display": false
  }
 },
 "nbformat": 4,
 "nbformat_minor": 4
}
